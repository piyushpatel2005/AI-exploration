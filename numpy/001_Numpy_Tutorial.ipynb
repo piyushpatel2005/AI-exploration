{
 "cells": [
  {
   "cell_type": "markdown",
   "id": "5d10061b-3d0d-46b6-8680-ea74074ca82b",
   "metadata": {},
   "source": [
    "# Numpy Introduction\n",
    "\n",
    "Numpy is a Python module that provides support for large, multi-dimensional arrays and matrices, along with a large collection of high-level mathematical functions to operate on these arrays. Numpy provides the core multi-dimensional array object that is necessary for most tasks in scientific computing with Python. So, Numpy is the root of all scientific computing in Python. Even though you may not use Numpy directly, many of the scientific libraries in Python are built on top of Numpy. For example, you will always work with Pandas package in Data science projects which is 100% dependent on Numpy. The internal memory layouts of Numpy arrays are very similar to those of C and Fortran arrays.\n",
    "\n",
    "Matrices and vectors are the most important concepts in any scientific problem solutions. So, it's necessary to work with matrices and vectors during scientific problem solution using computer programming. Now, you could use the normal Python arrays, but they are not really efficient enough for scientific problems. That's where Numpy arrays shine and easily outperform Python arrays. In Machine Learning problems, you will mostly be dealing with numbers and those numbers are usually stored in the form of multi-dimensional arrays. Numpy provides super fast and efficient numerical computations on these multi-dimensional arrays.\n",
    "\n",
    "Python is great for writing code concisely to model your data. However, when it comes to speed, it's usually better if your are processed closer to the CPU. This is where Numpy comes in. When you store your data in a variable, behind the scene, the number is stored at a memory address in the RAM of your machine. In Python, number is stored as an `int` object which means along with data, you're storing relevant method references. This is why Numpy was developed so that we can store information in concise manner and provides faster access to the memory of the system."
   ]
  },
  {
   "cell_type": "markdown",
   "id": "ede6bb5b-e6ea-4156-a7cf-e3ec14b5d98d",
   "metadata": {},
   "source": [
    "## Features of Numpy Array\n",
    "\n",
    "- Numpy works close to hardware for higher efficiency. \n",
    "- It's written in C and uses vectorization which helps reduce the calculations by avoiding loops.\n",
    "- Numpy is widely used in scientific computations.\n",
    "- Numpy is free and open source.\n",
    "- The basic data structure in Numpy is Numpy array.\n",
    "\n",
    "## Installing Numpy\n",
    "\n",
    "In order to work with Scientific packages, you can set up Python virtual environment where you can install required packages. Once you have your virtual environment set up, you can install Numpy using below command.\n",
    "\n",
    "```bash\n",
    "pip install numpy\n",
    "```\n",
    "\n",
    "If you're using `conda`, you can use below command.\n",
    "\n",
    "```bash\n",
    "conda install numpy\n",
    "```\n",
    "\n",
    "## Using Numpy\n",
    "\n",
    "To use Numpy package in your code, you first need to import Numpy. The contention in scientific community is to use `np` instead of `numpy` in your code. This way you will not end up typing `numpy` every time but instead can use the shorthand `np`.You can import Numpy using below command.\n",
    "\n",
    "```python\n",
    "import numpy as np\n",
    "```\n",
    "\n",
    "From next lesson, you will learn how to work with numpy arrays."
   ]
  },
  {
   "cell_type": "markdown",
   "id": "b998d801-7c72-4d69-9b94-5c6ea11fbc26",
   "metadata": {},
   "source": [
    "# Creating Numpy Arrays\n",
    "\n",
    "Numpy's basic data structure is called `ndarray`. This is basically n-dimensional array.\n",
    "\n",
    "There are four main ways to create Numpy arrays.\n",
    "\n",
    "1. Create Numpy array using Python sequences.\n",
    "2. Using Numpy array creation objects such as `arange`, `ones`, `zeros`, etc.\n",
    "3. Use Special package functions like `random` to create `ndarray`.\n",
    "4. Create array by loading data from files.\n",
    "\n",
    "In order to work with `numpy`, you first import `numpy` as `np`.\n"
   ]
  },
  {
   "cell_type": "code",
   "execution_count": 1,
   "id": "e4da5b36-bf54-4df3-a9a7-95a3537a1280",
   "metadata": {},
   "outputs": [],
   "source": [
    "import numpy as np"
   ]
  },
  {
   "cell_type": "markdown",
   "id": "56be6d6a-5cdb-4a39-a929-20ad4fef0285",
   "metadata": {},
   "source": [
    "## 1. Array using Python sequences\n",
    "\n",
    "You can easily construct `ndarray` using `array` functino defined in the `numpy` by passing any Python list.\n"
   ]
  },
  {
   "cell_type": "code",
   "execution_count": 2,
   "id": "6d75d67d-9fe0-4563-8e03-44b6fa6f8a08",
   "metadata": {},
   "outputs": [
    {
     "data": {
      "text/plain": [
       "array([1, 2, 3])"
      ]
     },
     "execution_count": 2,
     "metadata": {},
     "output_type": "execute_result"
    }
   ],
   "source": [
    "a = np.array([1,2,3])\n",
    "a"
   ]
  },
  {
   "cell_type": "markdown",
   "id": "af737e00-132c-404d-a79b-37c76aab202c",
   "metadata": {},
   "source": [
    "Internally, Numpy stores the data in ndarray format which is not exactly Python list. It's lot more concise and memory-efficient storage.\n",
    "\n",
    "You can also create numpy array of other types using the same syntax."
   ]
  },
  {
   "cell_type": "code",
   "execution_count": 3,
   "id": "6c2196dc-9e1e-42bd-a1f9-760b5f1f1355",
   "metadata": {},
   "outputs": [],
   "source": [
    "float_arr = np.array([.1, .2, .3])"
   ]
  },
  {
   "cell_type": "markdown",
   "id": "fef35dbc-5e63-40b0-82fc-4fb72fe3cd73",
   "metadata": {},
   "source": [
    "If you check the type of this array `a`, you will notice that it's a `numpy.ndarray` type."
   ]
  },
  {
   "cell_type": "code",
   "execution_count": 4,
   "id": "b0426e1b-a86c-4b99-815e-1b668e7193f9",
   "metadata": {},
   "outputs": [
    {
     "data": {
      "text/plain": [
       "numpy.ndarray"
      ]
     },
     "execution_count": 4,
     "metadata": {},
     "output_type": "execute_result"
    }
   ],
   "source": [
    "type(a)"
   ]
  },
  {
   "cell_type": "markdown",
   "id": "27fb78d1-1cad-4498-8d75-1634742c70bc",
   "metadata": {},
   "source": [
    "You can also create a numpy array using tuples. You simply pass a tuple instead of a list in this case."
   ]
  },
  {
   "cell_type": "code",
   "execution_count": 5,
   "id": "8b3f7a1c-17c9-4dc8-862c-320ea5254c47",
   "metadata": {},
   "outputs": [
    {
     "data": {
      "text/plain": [
       "numpy.ndarray"
      ]
     },
     "execution_count": 5,
     "metadata": {},
     "output_type": "execute_result"
    }
   ],
   "source": [
    "b = np.array((1,2,3))\n",
    "type(b)"
   ]
  },
  {
   "cell_type": "markdown",
   "id": "352a5341-fa15-4984-9aff-c44018e503d1",
   "metadata": {},
   "source": [
    "If you want to create a multi-dimensional array, you can use Python nested lists as shown below."
   ]
  },
  {
   "cell_type": "code",
   "execution_count": 6,
   "id": "a15e7ef3-3a5c-4a77-919c-15fbc8a1608a",
   "metadata": {},
   "outputs": [
    {
     "name": "stdout",
     "output_type": "stream",
     "text": [
      "[[1 2 3]\n",
      " [4 5 6]]\n"
     ]
    }
   ],
   "source": [
    "c = np.array([[1,2,3], [4,5,6]])\n",
    "print(c)"
   ]
  },
  {
   "cell_type": "markdown",
   "id": "fb239585-4332-43fa-bc25-cd3a0af49d63",
   "metadata": {},
   "source": [
    "Again this is of type `numpy.ndarray`."
   ]
  },
  {
   "cell_type": "markdown",
   "id": "0b468f30-9022-4b85-876a-0618cc325537",
   "metadata": {},
   "source": [
    "## 2. Using Numpy array creation objects\n",
    "\n",
    "Numpy provides some useful objects to create arrays. These are called array creation objects.\n",
    "\n",
    "You can use `arange` to create an array of evenly spaced values. This is similar to `range` function in Python language."
   ]
  },
  {
   "cell_type": "code",
   "execution_count": 7,
   "id": "deb287c1-70ff-412b-a91e-8c4b338160cc",
   "metadata": {},
   "outputs": [
    {
     "name": "stdout",
     "output_type": "stream",
     "text": [
      "[0 1 2 3 4]\n"
     ]
    }
   ],
   "source": [
    "a = np.arange(5)\n",
    "print(a)"
   ]
  },
  {
   "cell_type": "markdown",
   "id": "1f511448-5085-4af5-a225-906041cd1c7d",
   "metadata": {},
   "source": [
    "Again, you can specify `start`, `stop` and `step` arguments to this function."
   ]
  },
  {
   "cell_type": "code",
   "execution_count": 8,
   "id": "4366842e-0c70-4f5a-8037-f1310d39ffff",
   "metadata": {},
   "outputs": [
    {
     "name": "stdout",
     "output_type": "stream",
     "text": [
      "[1 3 5 7 9]\n"
     ]
    }
   ],
   "source": [
    "b = np.arange(1, 10, 2)\n",
    "print(b)"
   ]
  },
  {
   "cell_type": "markdown",
   "id": "c205af36-1589-4e9c-904c-0da756f386d0",
   "metadata": {},
   "source": [
    "You can use `ones` and `zeros` to create arrays of ones and zeros. You can specify the shape of the array you want to create using `shape` argument and all items of these arrays will be set to 1 or 0."
   ]
  },
  {
   "cell_type": "code",
   "execution_count": 10,
   "id": "244edaf7-3b4c-45a0-a03a-6f62978cc3b6",
   "metadata": {},
   "outputs": [
    {
     "name": "stdout",
     "output_type": "stream",
     "text": [
      "[[0. 0. 0. 0.]\n",
      " [0. 0. 0. 0.]\n",
      " [0. 0. 0. 0.]]\n"
     ]
    }
   ],
   "source": [
    "zeros = np.zeros((3,4))\n",
    "print(zeros)"
   ]
  },
  {
   "cell_type": "code",
   "execution_count": 11,
   "id": "7c5cd78f-9c90-41a1-b8a9-46f10beb15de",
   "metadata": {},
   "outputs": [
    {
     "name": "stdout",
     "output_type": "stream",
     "text": [
      "[[1. 1. 1.]\n",
      " [1. 1. 1.]]\n"
     ]
    }
   ],
   "source": [
    "ones = np.ones((2, 3))\n",
    "print(ones)"
   ]
  },
  {
   "cell_type": "markdown",
   "id": "f913bb24-0e85-4c68-ac66-8f9646e76b0f",
   "metadata": {},
   "source": [
    "The `np.linspace` function is used to create an array of evenly spaced values in a specified interval."
   ]
  },
  {
   "cell_type": "code",
   "execution_count": 12,
   "id": "25e297c9-8e00-4681-a960-5248e7ffa470",
   "metadata": {},
   "outputs": [
    {
     "name": "stdout",
     "output_type": "stream",
     "text": [
      "[ 0.   2.5  5.   7.5 10. ]\n"
     ]
    }
   ],
   "source": [
    "linspace = np.linspace(0, 10, 5)\n",
    "print(linspace)"
   ]
  },
  {
   "cell_type": "markdown",
   "id": "3384a6b3-48de-4f55-8af1-39cce8daac71",
   "metadata": {},
   "source": [
    "You can use `repeat` function to create an array by repeating an existing array multiple times."
   ]
  },
  {
   "cell_type": "code",
   "execution_count": 13,
   "id": "3ac416d2-1c50-46f3-93b7-e5145f41a6c8",
   "metadata": {},
   "outputs": [
    {
     "name": "stdout",
     "output_type": "stream",
     "text": [
      "[1 1 1 2 2 2 3 3 3]\n"
     ]
    }
   ],
   "source": [
    "a = np.array([1,2,3])\n",
    "repeated = np.repeat(a, 3)\n",
    "print(repeated)"
   ]
  },
  {
   "cell_type": "markdown",
   "id": "359cd1b5-53ae-45c5-9741-ae8133383fc9",
   "metadata": {},
   "source": [
    "The `np.eye(n, m)` function is used to create 2D identity matrix. This creates a matrix with ones on the diagonal and zeros elsewhere."
   ]
  },
  {
   "cell_type": "code",
   "execution_count": 14,
   "id": "4b63d2b5-b632-4e83-9d49-c0457a3119e4",
   "metadata": {},
   "outputs": [
    {
     "name": "stdout",
     "output_type": "stream",
     "text": [
      "[[1. 0. 0.]\n",
      " [0. 1. 0.]\n",
      " [0. 0. 1.]]\n"
     ]
    }
   ],
   "source": [
    "eye = np.eye(3)\n",
    "print(eye)"
   ]
  },
  {
   "cell_type": "markdown",
   "id": "443172b0-47ba-4bec-a1c0-69cb9286787d",
   "metadata": {},
   "source": [
    "## 3. Using Special package functions\n",
    "\n",
    "There are other functions in `numpy` package which can be used to create `ndarray`. These are `random`, `linspace`, `logspace`, etc.\n",
    "\n",
    "`random.rand` function is used to create numpy array with uniform distribution of values between 0 and 1 where 1 is not included."
   ]
  },
  {
   "cell_type": "code",
   "execution_count": 15,
   "id": "0bf3b36d-10c4-4781-b8df-0bbab1b18674",
   "metadata": {},
   "outputs": [
    {
     "name": "stdout",
     "output_type": "stream",
     "text": [
      "[0.53826777 0.13952984 0.62274587 0.88301904]\n"
     ]
    }
   ],
   "source": [
    "a = np.random.rand(4)\n",
    "print(a)"
   ]
  },
  {
   "cell_type": "markdown",
   "id": "c9ae9f91-f3c0-4bbd-8e86-4f8aa9752b5d",
   "metadata": {},
   "source": [
    "If you want to create random array with normal distribution, you can use `random.randn` function."
   ]
  },
  {
   "cell_type": "code",
   "execution_count": 16,
   "id": "616a5966-bd40-49ae-9436-7ebc31d6e157",
   "metadata": {},
   "outputs": [
    {
     "name": "stdout",
     "output_type": "stream",
     "text": [
      "[-0.5727829  -0.51042528 -0.44357847]\n"
     ]
    }
   ],
   "source": [
    "a = np.random.randn(3)\n",
    "print(a)"
   ]
  },
  {
   "cell_type": "markdown",
   "id": "95cb232a-19d5-4f6a-8570-03e91603019a",
   "metadata": {},
   "source": [
    "You can also generate an array with random integers using `random.randint` function."
   ]
  },
  {
   "cell_type": "code",
   "execution_count": 17,
   "id": "31c76818-5ee2-4f18-9b50-5894a2768e8e",
   "metadata": {},
   "outputs": [
    {
     "name": "stdout",
     "output_type": "stream",
     "text": [
      "[[3 7 5]\n",
      " [3 8 2]]\n"
     ]
    }
   ],
   "source": [
    "a = np.random.randint(1, 10, (2, 3))\n",
    "print(a)"
   ]
  },
  {
   "cell_type": "markdown",
   "id": "8ef6982b-0c8b-4ad7-86ba-a15cc3ed11f2",
   "metadata": {},
   "source": [
    "## 4. By reading data from file\n",
    "\n",
    "You can also create an array by loading data from a file. This is useful when you want to work with data stored in external files. This is also the common way to work with `numpy`. For example, you could load image data from a file and work with it using `numpy` functions.\n",
    "\n",
    "Assume you have a file with below content.\n",
    "\n",
    "```plaintext\n",
    "1,2,3\n",
    "4,5,6\n",
    "```\n",
    "\n",
    "You can create a numpy array from this file using `loadtxt` function.\n",
    "\n",
    "```python\n",
    "a = np.loadtxt('data.txt', delimiter=',')\n",
    "print(a)\n",
    "```\n",
    "\n",
    "```plaintext\n",
    "[[1 2 3]\n",
    " [4 5 6]]\n",
    "```\n",
    "\n",
    "You can also save numpy array to a file using `savetxt` function. You can specify the name of the file and the array to be saved as arguments.\n",
    "\n",
    "```python\n",
    "np.savetxt('data.txt', a)\n",
    "```"
   ]
  },
  {
   "cell_type": "markdown",
   "id": "85b8dbcd-7641-4c45-85d3-8b79afa6b96b",
   "metadata": {},
   "source": [
    "# Numpy Array Attributes\n",
    "\n",
    "Numpy arrays have several properties which provide information about the array. Below I will demonstrate some of those.\n",
    "\n",
    "## 1. `shape`\n",
    "You can get shape of an array using `shape` attribute. This is a tuple which contains dimensions of the array."
   ]
  },
  {
   "cell_type": "code",
   "execution_count": 18,
   "id": "223e1cfc-7169-4fbf-b6de-c0836e65872b",
   "metadata": {},
   "outputs": [
    {
     "data": {
      "text/plain": [
       "(3,)"
      ]
     },
     "execution_count": 18,
     "metadata": {},
     "output_type": "execute_result"
    }
   ],
   "source": [
    "a = np.array([1,2,3])\n",
    "a.shape # (3,)"
   ]
  },
  {
   "cell_type": "code",
   "execution_count": 19,
   "id": "14fad438-d176-46b6-9a61-597f25163aff",
   "metadata": {},
   "outputs": [
    {
     "data": {
      "text/plain": [
       "(2, 3)"
      ]
     },
     "execution_count": 19,
     "metadata": {},
     "output_type": "execute_result"
    }
   ],
   "source": [
    "a = np.array([[1,2,3], [4,5,6]])\n",
    "a.shape # (2, 3)"
   ]
  },
  {
   "cell_type": "markdown",
   "id": "7e1973e0-6982-4ceb-aae1-26223af59811",
   "metadata": {},
   "source": [
    "## 2. `dtype`\n",
    "\n",
    "The `dtype` attribute is used to get the data type of the array."
   ]
  },
  {
   "cell_type": "code",
   "execution_count": 20,
   "id": "1a7b7cc8-b4e6-424a-b311-bbafb777f062",
   "metadata": {},
   "outputs": [
    {
     "data": {
      "text/plain": [
       "dtype('int64')"
      ]
     },
     "execution_count": 20,
     "metadata": {},
     "output_type": "execute_result"
    }
   ],
   "source": [
    "a = np.array([1,2,3])\n",
    "a.dtype # dtype('int64')"
   ]
  },
  {
   "cell_type": "code",
   "execution_count": 21,
   "id": "a2eb0679-6671-4055-a121-bd9f347b6872",
   "metadata": {},
   "outputs": [
    {
     "data": {
      "text/plain": [
       "dtype('bool')"
      ]
     },
     "execution_count": 21,
     "metadata": {},
     "output_type": "execute_result"
    }
   ],
   "source": [
    "b = np.array([True, False, True])\n",
    "b.dtype # dtype('bool')"
   ]
  },
  {
   "cell_type": "markdown",
   "id": "9fad84ad-97d7-4d74-8e08-d25ca7ae41b8",
   "metadata": {},
   "source": [
    "## 3. `size`\n",
    "\n",
    "The `size` attribute is used to get the total number of elements in the array."
   ]
  },
  {
   "cell_type": "code",
   "execution_count": 22,
   "id": "7eced7cf-2435-4ecb-8803-d4191aab1857",
   "metadata": {},
   "outputs": [
    {
     "data": {
      "text/plain": [
       "6"
      ]
     },
     "execution_count": 22,
     "metadata": {},
     "output_type": "execute_result"
    }
   ],
   "source": [
    "a = np.array([[1,2,3], [4,5,6]])\n",
    "a.size # 6"
   ]
  },
  {
   "cell_type": "markdown",
   "id": "2a5de178-fe29-4a72-9801-9553d1256cde",
   "metadata": {},
   "source": [
    "## 4. `ndim`\n",
    "\n",
    "The `ndim` attribute is used to get the number of dimensions of the array. For example, for 2D array, `ndim` will be 2 and for 3D array, `ndim` will be 3."
   ]
  },
  {
   "cell_type": "code",
   "execution_count": 23,
   "id": "562d6d9f-c379-4706-80c3-ff160bd4c7b4",
   "metadata": {},
   "outputs": [
    {
     "data": {
      "text/plain": [
       "2"
      ]
     },
     "execution_count": 23,
     "metadata": {},
     "output_type": "execute_result"
    }
   ],
   "source": [
    "a = np.array([[1,2,3], [4,5,6]])\n",
    "a.ndim # 2"
   ]
  },
  {
   "cell_type": "markdown",
   "id": "ee8521ef-a6b3-4fb8-bf9a-391f1fc1f451",
   "metadata": {},
   "source": [
    "## 5. `itemsize`\n",
    "\n",
    "This is used to get the size of each element of the array in bytes. As you saw above for this machine, the default integer type is `int64` which is 8 bytes."
   ]
  },
  {
   "cell_type": "code",
   "execution_count": 24,
   "id": "ed8a17af-b6c2-412e-b7ee-14c7b9aa526f",
   "metadata": {},
   "outputs": [
    {
     "data": {
      "text/plain": [
       "8"
      ]
     },
     "execution_count": 24,
     "metadata": {},
     "output_type": "execute_result"
    }
   ],
   "source": [
    "a = np.array([1,2,3])\n",
    "a.itemsize # 8"
   ]
  },
  {
   "cell_type": "markdown",
   "id": "d6166d71-86c7-4b80-8633-13bdea41cbef",
   "metadata": {},
   "source": [
    "## 6. `nbytes`\n",
    "\n",
    "This is used to get the total size of the array in bytes. This is the product of `itemsize` and `size`."
   ]
  },
  {
   "cell_type": "code",
   "execution_count": 25,
   "id": "92b114e9-b953-499f-9d11-7dd29f895724",
   "metadata": {},
   "outputs": [
    {
     "data": {
      "text/plain": [
       "48"
      ]
     },
     "execution_count": 25,
     "metadata": {},
     "output_type": "execute_result"
    }
   ],
   "source": [
    "a = np.array([[1,2,3], [4,5,6]])\n",
    "a.nbytes # 48"
   ]
  },
  {
   "cell_type": "markdown",
   "id": "363c02d2-a006-4b0c-b491-112dfb32b6c8",
   "metadata": {},
   "source": [
    "## 7. `data`\n",
    "\n",
    "This is used to get the memory address of the array. This is a read-only property."
   ]
  },
  {
   "cell_type": "code",
   "execution_count": 26,
   "id": "07b1bd28-0b81-4610-94d1-29eb00a98109",
   "metadata": {},
   "outputs": [
    {
     "data": {
      "text/plain": [
       "<memory at 0x7a2c2c30b700>"
      ]
     },
     "execution_count": 26,
     "metadata": {},
     "output_type": "execute_result"
    }
   ],
   "source": [
    "a = np.array([1,2,3])\n",
    "a.data"
   ]
  },
  {
   "cell_type": "markdown",
   "id": "8002325d-5546-400f-affe-451ef7910cab",
   "metadata": {},
   "source": [
    "# Numpy Array Indexing"
   ]
  },
  {
   "cell_type": "code",
   "execution_count": null,
   "id": "104f20dd-bac1-464a-9ebc-14247e0f4588",
   "metadata": {},
   "outputs": [],
   "source": []
  }
 ],
 "metadata": {
  "kernelspec": {
   "display_name": "Python 3 (ipykernel)",
   "language": "python",
   "name": "python3"
  },
  "language_info": {
   "codemirror_mode": {
    "name": "ipython",
    "version": 3
   },
   "file_extension": ".py",
   "mimetype": "text/x-python",
   "name": "python",
   "nbconvert_exporter": "python",
   "pygments_lexer": "ipython3",
   "version": "3.13.5"
  }
 },
 "nbformat": 4,
 "nbformat_minor": 5
}
