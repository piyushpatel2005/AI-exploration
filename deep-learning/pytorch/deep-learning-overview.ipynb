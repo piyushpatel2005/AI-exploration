{
 "cells": [
  {
   "cell_type": "markdown",
   "id": "e4fa7081",
   "metadata": {},
   "source": [
    "# Deep Learning Overview\n",
    "\n",
    "In recent times, the ML and AI systems have found so much traction. They have become one of the most in-demand skill.\n",
    "\n",
    "## Relationship between AI, ML and Deep Learning\n",
    "\n",
    "Although several books and articles mention AI, ML and Deep learning interchangeably, there is little difference between them. In fact, you can say deep learning is a specific type of artificial intelligence.\n",
    "\n",
    "![Artificial Intelligence, Machine Learning and Deep Learning](deep-learning-hierarchy.png \"Deep Learning field in relation to AI\")\n",
    "\n",
    "**Artificial intelligence** is not a recent phenomenon. It was brought into light in the 1950s. Many of the modern day AI ideas have been developing since long time. AI is essentially an effort to automate human tasks. AI is general field that encompasses machine learning and deep learning. So, if you think of these fields as related fields then AI is the superset of ML and Deep Learning. In earlier days, it was thought that human level intelligence can be explicitly programmed by setting specific rules for manipulating knowledge. \n",
    "\n",
    "**Machine Learning** provides input and output and lets computer systems figure out the logic to be implemented. This is where you provide a set of features and the target output, the computer system itself figures out the steps to produce a given output by looking at patterns in the input datasets. Machine Learning is the art of converting inputs into desired output. In traditional programming, you would provide step-by-step instructions, but in machine learning the computer system itself determines the steps to produce a given output. Again, machine learning is subset of the broader field of Artificial Intelligence. In short, the machine learning systems are trained rather than programmed.\n",
    "\n",
    "![Machine Learning System](machine-learning-system.png \"Machine Learning System identifies the sequence of rules\")\n",
    "\n",
    "In traditional machine learning, the models relied heavily on the input features selected for training the model. So, feature engineering, the field of transforming input data into meaningful and usable numerical input, played a key part in the success of machine learning models. Feature engineering often involved getting human experts to write rules or extract information from the available datasets. Raw features rarely had the abilities to expose the patterns that machine learning systems could directly understand. This is where several domain experts would use their domain knowledge to create features from incoming data and make them suitable for the machine learning system. **Deep learning** deals with finding such patterns automatically from the raw incoming data. Deep learning reduces the reliance of feature engineering. It doesn't completely replace feature engineering. In practice, it's been noticed that deep learning can identify representations of input data much better than with manually chosen features.\n",
    "\n",
    "With deep learning, computer systems can discover the rules of the data. They can help make decisions such as whether an MRI scan is for a cancer patient or non-cancer patient, whether the image is of a good product vs faulty product, whether a user is likely to buy this product or not or how likely is the user to buy this product after purchase of given set of products in the past, etc. It measures the patterns in the training data and then uses those patterns to apply to new incoming data. This means your models will be as good as the input data.\n",
    "\n",
    "## Types of Learning Algorithms\n",
    "\n",
    "Deep learning algorithms can be classified into following set of categories.\n",
    "1. Supervised Learning\n",
    "2. Unsupervised Learning\n",
    "3. Reinforcement Learning"
   ]
  },
  {
   "cell_type": "markdown",
   "id": "2771bb64-b6d6-4f45-bd24-5487059548d0",
   "metadata": {},
   "source": [
    "### Supervised Learning\n",
    "\n",
    "In supervised learning, computer systems are given pairs of values in the form of set of features and the target output. Features are also referred to as independent variables, attributes, predictor variables, etc and these are often abbreviated as `X` in equations. Target output are also known as label, target output, response variable, dependent variable, class of data point, etc. and often abbreviated as `y` in equations. So, for example, if you're predicting whether the student gets admission in the university based on their GRE score and their undergraduate degree GPAs then the features are `gpa` and `gre_score` and the target label you want to predict is whether the student will get an admission in the masters program of the university.\n",
    "\n",
    "If you provide computer systems enough number of input and output pairs, a system will gradually discover enough rules or patterns from the inputs that it will be able to correctly predict each provided label. This process of letting the system identify the patterns from the data is called model training. Once the model has achieved required accuracy, the model is trained to use in production.\n",
    "\n",
    "### Unsupervised Learning\n",
    "\n",
    "Undersupervised learning is different from Supervised learning in the sense that Unsupervised leraning do not have target labels in the input dataset. These are used to learn about patterns in the input data like identifying which datapoints belong close to each other. These are used for clustering related data. For example, clustering algorithms can be used to group similar users into a cluster based on their past behaviors in gaming application or group similar set of products such as large tomatoes, medium tomatoes and small tomatoes into a single cluster based on length, width and weight parameters.\n",
    "\n",
    "### Reinforcement Learning\n",
    "\n",
    "In this, even we don't know the best way to perform a task. For example, playing a game such that it improves the probability of you winning or trading stocks with algorithmic trading. In this case, every time computer system makes a move in a game, they are assigned a score of very good to bad based on the final outcome. Based on the feedback given, the computer system tries out different operations and learns from the scores assigned. Eventually, it will have learned enough to be used.  This is also the kind of learning applied in some of the self-driving cars application. It is also the way systems were trained to beat human grandmasters in Chess or Go games.\n"
   ]
  },
  {
   "cell_type": "markdown",
   "id": "f1bd382d-186b-4b14-a88e-05e9503c5812",
   "metadata": {},
   "source": [
    "## Machine Learning Lifecycle\n",
    "\n",
    "During training of our machine learning model, you would use a loss function. This loss functions is used to compare the model's output with the reference data during evaluation. So, if a loss function produces lower value, this represents much better performing model. Model training process strives to reduce the loss function towards lower scores by slowly modifying the model until it achieves the good enough performance."
   ]
  },
  {
   "cell_type": "code",
   "execution_count": null,
   "id": "539902b4-cf51-41ff-8ed0-aa895e545d8c",
   "metadata": {},
   "outputs": [],
   "source": []
  }
 ],
 "metadata": {
  "kernelspec": {
   "display_name": ".venv",
   "language": "python",
   "name": "python3"
  },
  "language_info": {
   "codemirror_mode": {
    "name": "ipython",
    "version": 3
   },
   "file_extension": ".py",
   "mimetype": "text/x-python",
   "name": "python",
   "nbconvert_exporter": "python",
   "pygments_lexer": "ipython3",
   "version": "3.12.11"
  }
 },
 "nbformat": 4,
 "nbformat_minor": 5
}
