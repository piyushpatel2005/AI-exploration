{
 "cells": [
  {
   "cell_type": "markdown",
   "id": "e4fa7081",
   "metadata": {},
   "source": [
    "# Deep Learning Overview\n",
    "\n",
    "In recent times, the ML and AI systems have found so much traction. They have become one of the most in-demand skill.\n",
    "\n",
    "## What is ML, AI and DL?\n",
    "\n",
    "\n",
    "**Artificial intelligence** is not a recent phenomenon. It was brought into light in the 1950s. Many of the modern day AI ideas have been developing since long time. AI is essentially an effort to automate human tasks. AI is general field that encompasses machine learning and deep learning. So, if you think of these fields as related fields then AI is the superset of ML and Deep Learning. In earlier days, it was thought that human level intelligence can be explicitly programmed by setting specific rules for manipulating knowledge. \n",
    "\n",
    "**Machine Learning** provides input and output and lets computer systems figure out the logic to be implemented. This is where you provide a set of features and the target output, the computer system itself figures out the steps to produce a given output by looking at patterns in the input datasets. Machine Learning is the art of converting inputs into desired output. In traditional programming, you would provide step-by-step instructions, but in machine learning the computer system itself determines the steps to produce a given output. Again, machine learning is subset of the broader field of Artificial Intelligence. In short, the machine learning systems are trained rather than programmed.\n",
    "\n",
    "**Deep Learning** "
   ]
  }
 ],
 "metadata": {
  "language_info": {
   "name": "python"
  }
 },
 "nbformat": 4,
 "nbformat_minor": 5
}
